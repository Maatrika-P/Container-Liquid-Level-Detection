{
 "cells": [
  {
   "cell_type": "code",
   "execution_count": 1,
   "metadata": {},
   "outputs": [],
   "source": [
    "import numpy as np    \n",
    "import cv2\n",
    "import matplotlib.pyplot as pl   \n",
    "import os \n",
    "\n",
    "def imshow(title = \"\", image = None, size =5):\n",
    "    w= image.shape[0]\n",
    "    h=image.shape[1]\n",
    "    aspect_ratio = w/h     \n",
    "    pl.figure(figsize = (size*aspect_ratio,size))\n",
    "    pl.imshow(cv2.cvtColor(image, cv2.COLOR_BGR2RGB))\n",
    "    pl.title(title)\n",
    "    pl.show()"
   ]
  },
  {
   "cell_type": "code",
   "execution_count": 4,
   "metadata": {},
   "outputs": [],
   "source": [
    "def imshow(title = \"\", image = None, size = 5):\n",
    " \n",
    "    pl.figure(figsize=(size , size))\n",
    "    pl.imshow(cv2.cvtColor(image, cv2.COLOR_BGR2RGB))\n",
    "    pl.title(title)\n",
    "    pl.show()"
   ]
  },
  {
   "attachments": {},
   "cell_type": "markdown",
   "metadata": {},
   "source": [
    "## Definition 1 for Background Subtraction Function "
   ]
  },
  {
   "cell_type": "code",
   "execution_count": 4,
   "metadata": {},
   "outputs": [],
   "source": [
    "def bgSubVid(video):\n",
    "   \n",
    "   cap = cv2.VideoCapture(video)\n",
    "\n",
    "# Get the height and width of the frame (required to be an interfer)\n",
    "   w = int(cap.get(3))\n",
    "   h = int(cap.get(4))\n",
    "\n",
    "# Define the codec and create VideoWriter object.The output is stored in 'outpy.avi' file.\n",
    "   out = cv2.VideoWriter('name', cv2.VideoWriter_fourcc('M','J','P','G'), 30, (w, h))\n",
    "\n",
    "   kernel = cv2.getStructuringElement(cv2.MORPH_ELLIPSE,(3,3))\n",
    "   fgbg = cv2.createBackgroundSubtractorKNN()\n",
    "\n",
    "   while(1):\n",
    "        ret, frame = cap.read()\n",
    "\n",
    "        if ret:\n",
    "          fgmask = fgbg.apply(frame)\n",
    "          fgmask = cv2.morphologyEx(fgmask, cv2.MORPH_OPEN, kernel)\n",
    "\n",
    "          imshow('frame', fgmask)\n",
    "        else:\n",
    "           break  \n",
    "\n",
    "   cap.release()\n",
    "   out.release()\n",
    "\n",
    "\n",
    "#bgSubVid(r\"IMG_0845.mp4\")"
   ]
  },
  {
   "attachments": {},
   "cell_type": "markdown",
   "metadata": {},
   "source": [
    "## Definition 2 for Background Subtraction Function "
   ]
  },
  {
   "cell_type": "code",
   "execution_count": 13,
   "metadata": {},
   "outputs": [],
   "source": [
    "def bgSubVid(video):\n",
    "   \n",
    "   cap = cv2.VideoCapture(video)\n",
    "\n",
    "# Get the height and width of the frame (required to be an interfer)\n",
    "   width = cap.get(cv2.CAP_PROP_FRAME_WIDTH)\n",
    "   height = cap.get(cv2.CAP_PROP_FRAME_HEIGHT)\n",
    "   roi_size = (450, 1100)\n",
    "   roi_center = (int(width/2), int(height/2))\n",
    "   roi_tl = (int(roi_center[0] - roi_size[0]/12), int(roi_center[1] - roi_size[1]/4))\n",
    "\n",
    "\n",
    "   kernel = cv2.getStructuringElement(cv2.MORPH_ELLIPSE,(3,3))\n",
    "   fgbg = cv2.createBackgroundSubtractorKNN()\n",
    "\n",
    "   while(1):\n",
    "        ret, frame = cap.read()\n",
    "\n",
    "        if ret:\n",
    "          frame_roi = frame[roi_tl[1]:roi_tl[1]+roi_size[1], roi_tl[0]:roi_tl[0]+roi_size[0]]\n",
    "          fgmask = fgbg.apply(frame_roi)\n",
    "          fgmask = cv2.morphologyEx(fgmask, cv2.MORPH_OPEN, kernel)\n",
    "\n",
    "          imshow('frame', fgmask)\n",
    "        else:\n",
    "           break  \n",
    "\n",
    "   cap.release()"
   ]
  },
  {
   "attachments": {},
   "cell_type": "markdown",
   "metadata": {},
   "source": [
    "### BG Subtraction/Segmentation:\n",
    "\n",
    "1. Pre-processing of img \n",
    "2. Segmentation of objs \n",
    "3. Remove bg or apply filters \n",
    "4. Can be done by KNN, MOG, NNs, Img1 - Img2"
   ]
  },
  {
   "attachments": {},
   "cell_type": "markdown",
   "metadata": {},
   "source": [
    "### Image Subtraction:\n",
    "\n",
    "1. Difference btw 2 frames \n",
    "2. Depends on speed of objs and frame rate \n",
    "3. Sensitive to threshold \n",
    "4. Sensitive to noise and moving objs \n",
    "5. Running average of bg"
   ]
  },
  {
   "cell_type": "markdown",
   "metadata": {},
   "source": [
    "## Having the original color back on Foreground after Background Subtraction"
   ]
  },
  {
   "cell_type": "code",
   "execution_count": 34,
   "metadata": {},
   "outputs": [],
   "source": [
    "def getBgFgSub(video):\n",
    "    cap = cv2.VideoCapture(video)\n",
    "\n",
    "    width = cap.get(cv2.CAP_PROP_FRAME_WIDTH)\n",
    "    height = cap.get(cv2.CAP_PROP_FRAME_HEIGHT)\n",
    "    roi_size = (450, 1100)\n",
    "    roi_center = (int(width/2), int(height/2))\n",
    "    roi_tl = (int(roi_center[0] - roi_size[0]/12), int(roi_center[1] - roi_size[1]/4))\n",
    "\n",
    "\n",
    "    # create a background subtractor object\n",
    "    fgbg = cv2.createBackgroundSubtractorMOG2()\n",
    "\n",
    "    # process each frame in the video\n",
    "    while True:\n",
    "        ret, frame = cap.read()\n",
    "        if not ret:\n",
    "            break\n",
    "        frame_roi = frame[roi_tl[1]:roi_tl[1]+roi_size[1], roi_tl[0]:roi_tl[0]+roi_size[0]]\n",
    "        # apply background subtraction\n",
    "        fgmask = fgbg.apply(frame_roi)\n",
    "        \n",
    "        # get original color on foreground\n",
    "        color_fg = cv2.bitwise_and(frame_roi, frame_roi, mask=fgmask)\n",
    "        \n",
    "        # display the result\n",
    "        cv2.imshow(\"Original Color on Foreground\", color_fg)\n",
    "        if cv2.waitKey(1) == ord('q'):\n",
    "            break\n",
    "\n",
    "    cap.release()\n",
    "    cv2.destroyAllWindows()"
   ]
  },
  {
   "cell_type": "code",
   "execution_count": null,
   "metadata": {},
   "outputs": [],
   "source": [
    "getBgFgSub('IMG_0845.mp4')"
   ]
  },
  {
   "cell_type": "code",
   "execution_count": 20,
   "metadata": {},
   "outputs": [
    {
     "name": "stdout",
     "output_type": "stream",
     "text": [
      "frames per second = 60.0\n",
      "frame id = 1200\n"
     ]
    }
   ],
   "source": [
    "video = cv2.VideoCapture('IMG_0845.mp4')\n",
    "\n",
    "fps = video.get(cv2.CAP_PROP_FPS)\n",
    "print('frames per second =',fps)\n",
    "\n",
    "minutes = 0\n",
    "seconds = 20\n",
    "frame_id = int(fps*(minutes*60 + seconds))\n",
    "print('frame id =',frame_id)"
   ]
  },
  {
   "cell_type": "code",
   "execution_count": 8,
   "metadata": {},
   "outputs": [],
   "source": [
    "cap = cv2.VideoCapture('IMG_0845.mp4')  # Replace 0 with the path to your video file if reading from file\n",
    "bg_subtractor = cv2.createBackgroundSubtractorMOG2()\n",
    "min_contour_area = 1000\n",
    "max_contour_area = 5000\n",
    "\n",
    "while True:\n",
    "    ret, frame = cap.read()\n",
    "    if not ret:\n",
    "        break\n",
    "\n",
    "    # Convert frame to grayscale and perform background subtraction\n",
    "    gray = cv2.cvtColor(frame, cv2.COLOR_BGR2GRAY)\n",
    "    fg_mask = bg_subtractor.apply(gray)\n",
    "\n",
    "    # Apply threshold and morphological operations\n",
    "    thresh = cv2.threshold(fg_mask, 100, 255, cv2.THRESH_BINARY)[1]\n",
    "    kernel = cv2.getStructuringElement(cv2.MORPH_ELLIPSE, (5, 5))\n",
    "    opening = cv2.morphologyEx(thresh, cv2.MORPH_OPEN, kernel)\n",
    "\n",
    "    # Find contours and filter out small and large contours\n",
    "    contours, hierarchy = cv2.findContours(opening, cv2.RETR_EXTERNAL, cv2.CHAIN_APPROX_SIMPLE)\n",
    "    for contour in contours:\n",
    "        area = cv2.contourArea(contour)\n",
    "        if area > min_contour_area and area < max_contour_area:\n",
    "            x, y, w, h = cv2.boundingRect(contour)\n",
    "            cv2.rectangle(frame, (x, y), (x + w, y + h), (0, 255, 0), 2)\n",
    "\n",
    "    # Display result\n",
    "    cv2.imshow(\"Bottle Detection\", frame)\n",
    "    if cv2.waitKey(1) == ord('q'):\n",
    "        break\n",
    "\n",
    "cap.release()\n",
    "cv2.destroyAllWindows()\n"
   ]
  }
 ],
 "metadata": {
  "kernelspec": {
   "display_name": "Python 3",
   "language": "python",
   "name": "python3"
  },
  "language_info": {
   "codemirror_mode": {
    "name": "ipython",
    "version": 3
   },
   "file_extension": ".py",
   "mimetype": "text/x-python",
   "name": "python",
   "nbconvert_exporter": "python",
   "pygments_lexer": "ipython3",
   "version": "3.10.9"
  },
  "orig_nbformat": 4
 },
 "nbformat": 4,
 "nbformat_minor": 2
}
